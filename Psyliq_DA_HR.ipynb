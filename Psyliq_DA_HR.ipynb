{
  "nbformat": 4,
  "nbformat_minor": 0,
  "metadata": {
    "colab": {
      "provenance": []
    },
    "kernelspec": {
      "name": "python3",
      "display_name": "Python 3"
    },
    "language_info": {
      "name": "python"
    }
  },
  "cells": [
    {
      "cell_type": "code",
      "execution_count": 1,
      "metadata": {
        "colab": {
          "base_uri": "https://localhost:8080/",
          "height": 213
        },
        "id": "LaYGqZYo_ECZ",
        "outputId": "2fe13a5c-a26e-4e60-e14e-e430499ffabd"
      },
      "outputs": [
        {
          "output_type": "display_data",
          "data": {
            "text/plain": [
              "<IPython.core.display.HTML object>"
            ],
            "text/html": [
              "\n",
              "     <input type=\"file\" id=\"files-4a7ad8ef-6fb9-4ad2-88f3-e597dea2786b\" name=\"files[]\" multiple disabled\n",
              "        style=\"border:none\" />\n",
              "     <output id=\"result-4a7ad8ef-6fb9-4ad2-88f3-e597dea2786b\">\n",
              "      Upload widget is only available when the cell has been executed in the\n",
              "      current browser session. Please rerun this cell to enable.\n",
              "      </output>\n",
              "      <script>// Copyright 2017 Google LLC\n",
              "//\n",
              "// Licensed under the Apache License, Version 2.0 (the \"License\");\n",
              "// you may not use this file except in compliance with the License.\n",
              "// You may obtain a copy of the License at\n",
              "//\n",
              "//      http://www.apache.org/licenses/LICENSE-2.0\n",
              "//\n",
              "// Unless required by applicable law or agreed to in writing, software\n",
              "// distributed under the License is distributed on an \"AS IS\" BASIS,\n",
              "// WITHOUT WARRANTIES OR CONDITIONS OF ANY KIND, either express or implied.\n",
              "// See the License for the specific language governing permissions and\n",
              "// limitations under the License.\n",
              "\n",
              "/**\n",
              " * @fileoverview Helpers for google.colab Python module.\n",
              " */\n",
              "(function(scope) {\n",
              "function span(text, styleAttributes = {}) {\n",
              "  const element = document.createElement('span');\n",
              "  element.textContent = text;\n",
              "  for (const key of Object.keys(styleAttributes)) {\n",
              "    element.style[key] = styleAttributes[key];\n",
              "  }\n",
              "  return element;\n",
              "}\n",
              "\n",
              "// Max number of bytes which will be uploaded at a time.\n",
              "const MAX_PAYLOAD_SIZE = 100 * 1024;\n",
              "\n",
              "function _uploadFiles(inputId, outputId) {\n",
              "  const steps = uploadFilesStep(inputId, outputId);\n",
              "  const outputElement = document.getElementById(outputId);\n",
              "  // Cache steps on the outputElement to make it available for the next call\n",
              "  // to uploadFilesContinue from Python.\n",
              "  outputElement.steps = steps;\n",
              "\n",
              "  return _uploadFilesContinue(outputId);\n",
              "}\n",
              "\n",
              "// This is roughly an async generator (not supported in the browser yet),\n",
              "// where there are multiple asynchronous steps and the Python side is going\n",
              "// to poll for completion of each step.\n",
              "// This uses a Promise to block the python side on completion of each step,\n",
              "// then passes the result of the previous step as the input to the next step.\n",
              "function _uploadFilesContinue(outputId) {\n",
              "  const outputElement = document.getElementById(outputId);\n",
              "  const steps = outputElement.steps;\n",
              "\n",
              "  const next = steps.next(outputElement.lastPromiseValue);\n",
              "  return Promise.resolve(next.value.promise).then((value) => {\n",
              "    // Cache the last promise value to make it available to the next\n",
              "    // step of the generator.\n",
              "    outputElement.lastPromiseValue = value;\n",
              "    return next.value.response;\n",
              "  });\n",
              "}\n",
              "\n",
              "/**\n",
              " * Generator function which is called between each async step of the upload\n",
              " * process.\n",
              " * @param {string} inputId Element ID of the input file picker element.\n",
              " * @param {string} outputId Element ID of the output display.\n",
              " * @return {!Iterable<!Object>} Iterable of next steps.\n",
              " */\n",
              "function* uploadFilesStep(inputId, outputId) {\n",
              "  const inputElement = document.getElementById(inputId);\n",
              "  inputElement.disabled = false;\n",
              "\n",
              "  const outputElement = document.getElementById(outputId);\n",
              "  outputElement.innerHTML = '';\n",
              "\n",
              "  const pickedPromise = new Promise((resolve) => {\n",
              "    inputElement.addEventListener('change', (e) => {\n",
              "      resolve(e.target.files);\n",
              "    });\n",
              "  });\n",
              "\n",
              "  const cancel = document.createElement('button');\n",
              "  inputElement.parentElement.appendChild(cancel);\n",
              "  cancel.textContent = 'Cancel upload';\n",
              "  const cancelPromise = new Promise((resolve) => {\n",
              "    cancel.onclick = () => {\n",
              "      resolve(null);\n",
              "    };\n",
              "  });\n",
              "\n",
              "  // Wait for the user to pick the files.\n",
              "  const files = yield {\n",
              "    promise: Promise.race([pickedPromise, cancelPromise]),\n",
              "    response: {\n",
              "      action: 'starting',\n",
              "    }\n",
              "  };\n",
              "\n",
              "  cancel.remove();\n",
              "\n",
              "  // Disable the input element since further picks are not allowed.\n",
              "  inputElement.disabled = true;\n",
              "\n",
              "  if (!files) {\n",
              "    return {\n",
              "      response: {\n",
              "        action: 'complete',\n",
              "      }\n",
              "    };\n",
              "  }\n",
              "\n",
              "  for (const file of files) {\n",
              "    const li = document.createElement('li');\n",
              "    li.append(span(file.name, {fontWeight: 'bold'}));\n",
              "    li.append(span(\n",
              "        `(${file.type || 'n/a'}) - ${file.size} bytes, ` +\n",
              "        `last modified: ${\n",
              "            file.lastModifiedDate ? file.lastModifiedDate.toLocaleDateString() :\n",
              "                                    'n/a'} - `));\n",
              "    const percent = span('0% done');\n",
              "    li.appendChild(percent);\n",
              "\n",
              "    outputElement.appendChild(li);\n",
              "\n",
              "    const fileDataPromise = new Promise((resolve) => {\n",
              "      const reader = new FileReader();\n",
              "      reader.onload = (e) => {\n",
              "        resolve(e.target.result);\n",
              "      };\n",
              "      reader.readAsArrayBuffer(file);\n",
              "    });\n",
              "    // Wait for the data to be ready.\n",
              "    let fileData = yield {\n",
              "      promise: fileDataPromise,\n",
              "      response: {\n",
              "        action: 'continue',\n",
              "      }\n",
              "    };\n",
              "\n",
              "    // Use a chunked sending to avoid message size limits. See b/62115660.\n",
              "    let position = 0;\n",
              "    do {\n",
              "      const length = Math.min(fileData.byteLength - position, MAX_PAYLOAD_SIZE);\n",
              "      const chunk = new Uint8Array(fileData, position, length);\n",
              "      position += length;\n",
              "\n",
              "      const base64 = btoa(String.fromCharCode.apply(null, chunk));\n",
              "      yield {\n",
              "        response: {\n",
              "          action: 'append',\n",
              "          file: file.name,\n",
              "          data: base64,\n",
              "        },\n",
              "      };\n",
              "\n",
              "      let percentDone = fileData.byteLength === 0 ?\n",
              "          100 :\n",
              "          Math.round((position / fileData.byteLength) * 100);\n",
              "      percent.textContent = `${percentDone}% done`;\n",
              "\n",
              "    } while (position < fileData.byteLength);\n",
              "  }\n",
              "\n",
              "  // All done.\n",
              "  yield {\n",
              "    response: {\n",
              "      action: 'complete',\n",
              "    }\n",
              "  };\n",
              "}\n",
              "\n",
              "scope.google = scope.google || {};\n",
              "scope.google.colab = scope.google.colab || {};\n",
              "scope.google.colab._files = {\n",
              "  _uploadFiles,\n",
              "  _uploadFilesContinue,\n",
              "};\n",
              "})(self);\n",
              "</script> "
            ]
          },
          "metadata": {}
        },
        {
          "output_type": "stream",
          "name": "stdout",
          "text": [
            "Saving employee_survey_data.csv to employee_survey_data.csv\n",
            "Saving general_data.csv to general_data.csv\n",
            "Saving in_time.csv to in_time.csv\n",
            "Saving manager_survey_data.csv to manager_survey_data.csv\n",
            "Saving out_time.csv to out_time.csv\n"
          ]
        }
      ],
      "source": [
        "from google.colab import files\n",
        "uploaded = files.upload()"
      ]
    },
    {
      "cell_type": "code",
      "source": [
        "import pandas as pd\n",
        "import io\n",
        "\n",
        "in_time_df = pd.read_csv(io.BytesIO(uploaded['in_time.csv']))\n",
        "manager_survey_data_df = pd.read_csv(io.BytesIO(uploaded['manager_survey_data.csv']))\n",
        "out_time_df = pd.read_csv(io.BytesIO(uploaded['out_time.csv']))\n",
        "employee_survey_data_df = pd.read_csv(io.BytesIO(uploaded['employee_survey_data.csv']))\n",
        "general_data_df = pd.read_csv(io.BytesIO(uploaded['general_data.csv']))"
      ],
      "metadata": {
        "id": "JK20vud2_NeV"
      },
      "execution_count": 25,
      "outputs": []
    },
    {
      "cell_type": "code",
      "source": [
        "print(employee_survey_data_df.head())\n",
        "print(general_data_df.head())\n",
        "print(in_time_df.head())\n",
        "print(manager_survey_data_df.head())\n",
        "print(out_time_df.head())"
      ],
      "metadata": {
        "id": "t2PxTY4_LADM",
        "colab": {
          "base_uri": "https://localhost:8080/"
        },
        "outputId": "32fc4497-c835-458f-be71-52eeaa8d5329"
      },
      "execution_count": 26,
      "outputs": [
        {
          "output_type": "stream",
          "name": "stdout",
          "text": [
            "   EmployeeID  EnvironmentSatisfaction  JobSatisfaction  WorkLifeBalance\n",
            "0           1                      3.0              4.0              2.0\n",
            "1           2                      3.0              2.0              4.0\n",
            "2           3                      2.0              2.0              1.0\n",
            "3           4                      4.0              4.0              3.0\n",
            "4           5                      4.0              1.0              3.0\n",
            "   Age Attrition     BusinessTravel              Department  DistanceFromHome  \\\n",
            "0   51        No      Travel_Rarely                   Sales                 6   \n",
            "1   31       Yes  Travel_Frequently  Research & Development                10   \n",
            "2   32        No  Travel_Frequently  Research & Development                17   \n",
            "3   38        No         Non-Travel  Research & Development                 2   \n",
            "4   32        No      Travel_Rarely  Research & Development                10   \n",
            "\n",
            "   Education EducationField  EmployeeCount  EmployeeID  Gender  ...  \\\n",
            "0          2  Life Sciences              1           1  Female  ...   \n",
            "1          1  Life Sciences              1           2  Female  ...   \n",
            "2          4          Other              1           3    Male  ...   \n",
            "3          5  Life Sciences              1           4    Male  ...   \n",
            "4          1        Medical              1           5    Male  ...   \n",
            "\n",
            "   PercentSalaryHike StandardHours StockOptionLevel  TotalWorkingYears  \\\n",
            "0                 11             8                0                1.0   \n",
            "1                 23             8                1                6.0   \n",
            "2                 15             8                3                5.0   \n",
            "3                 11             8                3               13.0   \n",
            "4                 12             8                2                9.0   \n",
            "\n",
            "   TrainingTimesLastYear YearsAtCompany  YearsSinceLastPromotion  \\\n",
            "0                      6              1                        0   \n",
            "1                      3              5                        1   \n",
            "2                      2              5                        0   \n",
            "3                      5              8                        7   \n",
            "4                      2              6                        0   \n",
            "\n",
            "   YearsWithCurrManager  TerminationType  TerminationDescription  \n",
            "0                     0              Unk                     NaN  \n",
            "1                     4              Unk                     NaN  \n",
            "2                     3              Unk                     NaN  \n",
            "3                     5              Unk                     NaN  \n",
            "4                     4              Unk                     NaN  \n",
            "\n",
            "[5 rows x 26 columns]\n",
            "   Unnamed: 0  2015-01-01           2015-01-02           2015-01-05  \\\n",
            "0           1         NaN  2015-01-02 09:43:45  2015-01-05 10:08:48   \n",
            "1           2         NaN  2015-01-02 10:15:44  2015-01-05 10:21:05   \n",
            "2           3         NaN  2015-01-02 10:17:41  2015-01-05 09:50:50   \n",
            "3           4         NaN  2015-01-02 10:05:06  2015-01-05 09:56:32   \n",
            "4           5         NaN  2015-01-02 10:28:17  2015-01-05 09:49:58   \n",
            "\n",
            "            2015-01-06           2015-01-07           2015-01-08  \\\n",
            "0  2015-01-06 09:54:26  2015-01-07 09:34:31  2015-01-08 09:51:09   \n",
            "1                  NaN  2015-01-07 09:45:17  2015-01-08 10:09:04   \n",
            "2  2015-01-06 10:14:13  2015-01-07 09:47:27  2015-01-08 10:03:40   \n",
            "3  2015-01-06 10:11:07  2015-01-07 09:37:30  2015-01-08 10:02:08   \n",
            "4  2015-01-06 09:45:28  2015-01-07 09:49:37  2015-01-08 10:19:44   \n",
            "\n",
            "            2015-01-09           2015-01-12           2015-01-13  ...  \\\n",
            "0  2015-01-09 10:09:25  2015-01-12 09:42:53  2015-01-13 10:13:06  ...   \n",
            "1  2015-01-09 09:43:26  2015-01-12 10:00:07  2015-01-13 10:43:29  ...   \n",
            "2  2015-01-09 10:05:49  2015-01-12 10:03:47  2015-01-13 10:21:26  ...   \n",
            "3  2015-01-09 10:08:12  2015-01-12 10:13:42  2015-01-13 09:53:22  ...   \n",
            "4  2015-01-09 10:00:50  2015-01-12 10:29:27  2015-01-13 09:59:32  ...   \n",
            "\n",
            "            2015-12-18           2015-12-21           2015-12-22  \\\n",
            "0                  NaN  2015-12-21 09:55:29  2015-12-22 10:04:06   \n",
            "1  2015-12-18 10:37:17  2015-12-21 09:49:02  2015-12-22 10:33:51   \n",
            "2  2015-12-18 10:15:14  2015-12-21 10:10:28  2015-12-22 09:44:44   \n",
            "3  2015-12-18 10:17:38  2015-12-21 09:58:21  2015-12-22 10:04:25   \n",
            "4  2015-12-18 09:58:35  2015-12-21 10:03:41  2015-12-22 10:10:30   \n",
            "\n",
            "            2015-12-23           2015-12-24 2015-12-25           2015-12-28  \\\n",
            "0  2015-12-23 10:14:27  2015-12-24 10:11:35        NaN  2015-12-28 10:13:41   \n",
            "1  2015-12-23 10:12:10                  NaN        NaN  2015-12-28 09:31:45   \n",
            "2  2015-12-23 10:15:54  2015-12-24 10:07:26        NaN  2015-12-28 09:42:05   \n",
            "3  2015-12-23 10:11:46  2015-12-24 09:43:15        NaN  2015-12-28 09:52:44   \n",
            "4  2015-12-23 10:13:36  2015-12-24 09:44:24        NaN  2015-12-28 10:05:15   \n",
            "\n",
            "            2015-12-29           2015-12-30           2015-12-31  \n",
            "0  2015-12-29 10:03:36  2015-12-30 09:54:12  2015-12-31 10:12:44  \n",
            "1  2015-12-29 09:55:49  2015-12-30 10:32:25  2015-12-31 09:27:20  \n",
            "2  2015-12-29 09:43:36  2015-12-30 09:34:05  2015-12-31 10:28:39  \n",
            "3  2015-12-29 09:33:16  2015-12-30 10:18:12  2015-12-31 10:01:15  \n",
            "4  2015-12-29 10:30:53  2015-12-30 09:18:21  2015-12-31 09:41:09  \n",
            "\n",
            "[5 rows x 262 columns]\n",
            "   EmployeeID  JobInvolvement  PerformanceRating\n",
            "0           1               3                  3\n",
            "1           2               2                  4\n",
            "2           3               3                  3\n",
            "3           4               2                  3\n",
            "4           5               3                  3\n",
            "   Unnamed: 0  2015-01-01           2015-01-02           2015-01-05  \\\n",
            "0           1         NaN  2015-01-02 16:56:15  2015-01-05 17:20:11   \n",
            "1           2         NaN  2015-01-02 18:22:17  2015-01-05 17:48:22   \n",
            "2           3         NaN  2015-01-02 16:59:14  2015-01-05 17:06:46   \n",
            "3           4         NaN  2015-01-02 17:25:24  2015-01-05 17:14:03   \n",
            "4           5         NaN  2015-01-02 18:31:37  2015-01-05 17:49:15   \n",
            "\n",
            "            2015-01-06           2015-01-07           2015-01-08  \\\n",
            "0  2015-01-06 17:19:05  2015-01-07 16:34:55  2015-01-08 17:08:32   \n",
            "1                  NaN  2015-01-07 17:09:06  2015-01-08 17:34:04   \n",
            "2  2015-01-06 16:38:32  2015-01-07 16:33:21  2015-01-08 17:24:22   \n",
            "3  2015-01-06 17:07:42  2015-01-07 16:32:40  2015-01-08 16:53:11   \n",
            "4  2015-01-06 17:26:25  2015-01-07 17:37:59  2015-01-08 17:59:28   \n",
            "\n",
            "            2015-01-09           2015-01-12           2015-01-13  ...  \\\n",
            "0  2015-01-09 17:38:29  2015-01-12 16:58:39  2015-01-13 18:02:58  ...   \n",
            "1  2015-01-09 16:52:29  2015-01-12 17:36:48  2015-01-13 18:00:13  ...   \n",
            "2  2015-01-09 16:57:30  2015-01-12 17:28:54  2015-01-13 17:21:25  ...   \n",
            "3  2015-01-09 17:19:47  2015-01-12 17:13:37  2015-01-13 17:11:45  ...   \n",
            "4  2015-01-09 17:44:08  2015-01-12 18:51:21  2015-01-13 18:14:58  ...   \n",
            "\n",
            "            2015-12-18           2015-12-21           2015-12-22  \\\n",
            "0                  NaN  2015-12-21 17:15:50  2015-12-22 17:27:51   \n",
            "1  2015-12-18 18:31:28  2015-12-21 17:34:16  2015-12-22 18:16:35   \n",
            "2  2015-12-18 17:02:23  2015-12-21 17:20:17  2015-12-22 16:32:50   \n",
            "3  2015-12-18 17:55:23  2015-12-21 16:49:09  2015-12-22 17:24:00   \n",
            "4  2015-12-18 17:52:48  2015-12-21 17:43:35  2015-12-22 18:07:57   \n",
            "\n",
            "            2015-12-23           2015-12-24 2015-12-25           2015-12-28  \\\n",
            "0  2015-12-23 16:44:44  2015-12-24 17:47:22        NaN  2015-12-28 18:00:07   \n",
            "1  2015-12-23 17:38:18                  NaN        NaN  2015-12-28 17:08:38   \n",
            "2  2015-12-23 16:59:43  2015-12-24 16:58:25        NaN  2015-12-28 16:43:31   \n",
            "3  2015-12-23 17:36:35  2015-12-24 16:48:21        NaN  2015-12-28 17:19:34   \n",
            "4  2015-12-23 18:00:49  2015-12-24 17:59:22        NaN  2015-12-28 17:44:59   \n",
            "\n",
            "            2015-12-29           2015-12-30           2015-12-31  \n",
            "0  2015-12-29 17:22:30  2015-12-30 17:40:56  2015-12-31 17:17:33  \n",
            "1  2015-12-29 17:54:46  2015-12-30 18:31:35  2015-12-31 17:40:58  \n",
            "2  2015-12-29 17:09:56  2015-12-30 17:06:25  2015-12-31 17:15:50  \n",
            "3  2015-12-29 16:58:16  2015-12-30 17:40:11  2015-12-31 17:09:14  \n",
            "4  2015-12-29 18:47:00  2015-12-30 17:15:33  2015-12-31 17:42:14  \n",
            "\n",
            "[5 rows x 262 columns]\n"
          ]
        }
      ]
    },
    {
      "cell_type": "code",
      "source": [
        "# Q1\n",
        "import pandas as pd\n",
        "\n",
        "# Load the dataset\n",
        "general_data = pd.read_csv('general_data.csv')\n",
        "\n",
        "# Filter the dataset for employees aged 30 and above\n",
        "filtered_data = general_data[general_data['Age'] >= 30]\n",
        "print(filtered_data)"
      ],
      "metadata": {
        "colab": {
          "base_uri": "https://localhost:8080/"
        },
        "id": "QGXUkASZghev",
        "outputId": "7bb2a92e-0ff6-4f5b-a1dd-3433142b0152"
      },
      "execution_count": 27,
      "outputs": [
        {
          "output_type": "stream",
          "name": "stdout",
          "text": [
            "      Age Attrition     BusinessTravel              Department  \\\n",
            "0      51        No      Travel_Rarely                   Sales   \n",
            "1      31       Yes  Travel_Frequently  Research & Development   \n",
            "2      32        No  Travel_Frequently  Research & Development   \n",
            "3      38        No         Non-Travel  Research & Development   \n",
            "4      32        No      Travel_Rarely  Research & Development   \n",
            "...   ...       ...                ...                     ...   \n",
            "4402   37       Yes  Travel_Frequently                   Sales   \n",
            "4403   39        No  Travel_Frequently  Research & Development   \n",
            "4405   42        No      Travel_Rarely  Research & Development   \n",
            "4408   42        No      Travel_Rarely                   Sales   \n",
            "4409   40        No      Travel_Rarely  Research & Development   \n",
            "\n",
            "      DistanceFromHome  Education EducationField  EmployeeCount  EmployeeID  \\\n",
            "0                    6          2  Life Sciences              1           1   \n",
            "1                   10          1  Life Sciences              1           2   \n",
            "2                   17          4          Other              1           3   \n",
            "3                    2          5  Life Sciences              1           4   \n",
            "4                   10          1        Medical              1           5   \n",
            "...                ...        ...            ...            ...         ...   \n",
            "4402                 2          3      Marketing              1        4403   \n",
            "4403                22          3        Medical              1        4404   \n",
            "4405                 5          4        Medical              1        4406   \n",
            "4408                18          2        Medical              1        4409   \n",
            "4409                28          3        Medical              1        4410   \n",
            "\n",
            "      Gender  ...  PercentSalaryHike StandardHours StockOptionLevel  \\\n",
            "0     Female  ...                 11             8                0   \n",
            "1     Female  ...                 23             8                1   \n",
            "2       Male  ...                 15             8                3   \n",
            "3       Male  ...                 11             8                3   \n",
            "4       Male  ...                 12             8                2   \n",
            "...      ...  ...                ...           ...              ...   \n",
            "4402    Male  ...                 11             8                1   \n",
            "4403  Female  ...                 19             8                1   \n",
            "4405  Female  ...                 17             8                1   \n",
            "4408    Male  ...                 14             8                1   \n",
            "4409    Male  ...                 12             8                0   \n",
            "\n",
            "      TotalWorkingYears  TrainingTimesLastYear YearsAtCompany  \\\n",
            "0                   1.0                      6              1   \n",
            "1                   6.0                      3              5   \n",
            "2                   5.0                      2              5   \n",
            "3                  13.0                      5              8   \n",
            "4                   9.0                      2              6   \n",
            "...                 ...                    ...            ...   \n",
            "4402               17.0                      2              1   \n",
            "4403               20.0                      2             19   \n",
            "4405               10.0                      5              3   \n",
            "4408               10.0                      2              9   \n",
            "4409                NaN                      6             21   \n",
            "\n",
            "      YearsSinceLastPromotion  YearsWithCurrManager  TerminationType  \\\n",
            "0                           0                     0              Unk   \n",
            "1                           1                     4              Unk   \n",
            "2                           0                     3              Unk   \n",
            "3                           7                     5              Unk   \n",
            "4                           0                     4              Unk   \n",
            "...                       ...                   ...              ...   \n",
            "4402                        0                     0        Voluntary   \n",
            "4403                       11                     8      Resignation   \n",
            "4405                        0                     2      Involuntary   \n",
            "4408                        7                     8              Unk   \n",
            "4409                        3                     9      Involuntary   \n",
            "\n",
            "                                TerminationDescription  \n",
            "0                                                  NaN  \n",
            "1                                                  NaN  \n",
            "2                                                  NaN  \n",
            "3                                                  NaN  \n",
            "4                                                  NaN  \n",
            "...                                                ...  \n",
            "4402                    Stage necessary although they.  \n",
            "4403   Scientist heart others employee church century.  \n",
            "4405  Marriage sound myself others well morning wrong.  \n",
            "4408                                               NaN  \n",
            "4409                              Item born upon blue.  \n",
            "\n",
            "[3432 rows x 26 columns]\n"
          ]
        }
      ]
    },
    {
      "cell_type": "code",
      "source": [
        "#Q2\n",
        "pivot_table = general_data.pivot_table(values='MonthlyIncome', index='JobRole', aggfunc='mean')\n",
        "print(pivot_table)"
      ],
      "metadata": {
        "colab": {
          "base_uri": "https://localhost:8080/"
        },
        "id": "X383K7omgvmI",
        "outputId": "42786586-9b3d-43a6-c1b7-d43d40fdff64"
      },
      "execution_count": 28,
      "outputs": [
        {
          "output_type": "stream",
          "name": "stdout",
          "text": [
            "                           MonthlyIncome\n",
            "JobRole                                 \n",
            "Healthcare Representative   60983.740458\n",
            "Human Resources             58528.076923\n",
            "Laboratory Technician       66314.054054\n",
            "Manager                     63395.882353\n",
            "Manufacturing Director      69183.724138\n",
            "Research Director           65473.125000\n",
            "Research Scientist          64975.684932\n",
            "Sales Executive             65186.687117\n",
            "Sales Representative        65370.963855\n"
          ]
        }
      ]
    },
    {
      "cell_type": "code",
      "source": [
        "#Q3\n",
        "average_income = general_data['MonthlyIncome'].mean()\n",
        "general_data['AboveAverageIncome'] = general_data['MonthlyIncome'] > average_income\n",
        "print(general_data[['EmployeeID', 'MonthlyIncome', 'AboveAverageIncome']])"
      ],
      "metadata": {
        "colab": {
          "base_uri": "https://localhost:8080/"
        },
        "id": "iNmNnl-QgyhX",
        "outputId": "618324ee-ec46-49c3-facf-81487fb48fe9"
      },
      "execution_count": 29,
      "outputs": [
        {
          "output_type": "stream",
          "name": "stdout",
          "text": [
            "      EmployeeID  MonthlyIncome  AboveAverageIncome\n",
            "0              1         131160                True\n",
            "1              2          41890               False\n",
            "2              3         193280                True\n",
            "3              4          83210                True\n",
            "4              5          23420               False\n",
            "...          ...            ...                 ...\n",
            "4405        4406          60290               False\n",
            "4406        4407          26790               False\n",
            "4407        4408          37020               False\n",
            "4408        4409          23980               False\n",
            "4409        4410          54680               False\n",
            "\n",
            "[4410 rows x 3 columns]\n"
          ]
        }
      ]
    },
    {
      "cell_type": "code",
      "source": [
        "#Q4\n",
        "import matplotlib.pyplot as plt\n",
        "\n",
        "# Plotting the distribution of employee ages\n",
        "plt.figure(figsize=(10, 6))\n",
        "general_data['Age'].value_counts().sort_index().plot(kind='bar')\n",
        "plt.xlabel('Age')\n",
        "plt.ylabel('Number of Employees')\n",
        "plt.title('Distribution of Employee Ages')\n",
        "plt.show()"
      ],
      "metadata": {
        "colab": {
          "base_uri": "https://localhost:8080/",
          "height": 568
        },
        "id": "YQfdNRpXg1tc",
        "outputId": "28cc58bc-c91e-4a79-9487-4aaa9ef230bc"
      },
      "execution_count": 30,
      "outputs": [
        {
          "output_type": "display_data",
          "data": {
            "text/plain": [
              "<Figure size 1000x600 with 1 Axes>"
            ],
            "image/png": "[encoded data removed]"
          },
          "metadata": {}
        }
      ]
    },
    {
      "cell_type": "code",
      "source": [
        "#Q5\n",
        "# Identify missing or inconsistent values\n",
        "missing_departments = general_data['Department'].isnull().sum()\n",
        "print(f\"Missing Department values: {missing_departments}\")\n",
        "\n",
        "# Drop rows with missing values in the Department column\n",
        "cleaned_data = general_data.dropna(subset=['Department'])\n",
        "print(cleaned_data)"
      ],
      "metadata": {
        "colab": {
          "base_uri": "https://localhost:8080/"
        },
        "id": "A4Ak0Y58hKlK",
        "outputId": "720ea184-0b13-4a40-aeb6-0e52efb24950"
      },
      "execution_count": 31,
      "outputs": [
        {
          "output_type": "stream",
          "name": "stdout",
          "text": [
            "Missing Department values: 0\n",
            "      Age Attrition     BusinessTravel              Department  \\\n",
            "0      51        No      Travel_Rarely                   Sales   \n",
            "1      31       Yes  Travel_Frequently  Research & Development   \n",
            "2      32        No  Travel_Frequently  Research & Development   \n",
            "3      38        No         Non-Travel  Research & Development   \n",
            "4      32        No      Travel_Rarely  Research & Development   \n",
            "...   ...       ...                ...                     ...   \n",
            "4405   42        No      Travel_Rarely  Research & Development   \n",
            "4406   29        No      Travel_Rarely  Research & Development   \n",
            "4407   25        No      Travel_Rarely  Research & Development   \n",
            "4408   42        No      Travel_Rarely                   Sales   \n",
            "4409   40        No      Travel_Rarely  Research & Development   \n",
            "\n",
            "      DistanceFromHome  Education EducationField  EmployeeCount  EmployeeID  \\\n",
            "0                    6          2  Life Sciences              1           1   \n",
            "1                   10          1  Life Sciences              1           2   \n",
            "2                   17          4          Other              1           3   \n",
            "3                    2          5  Life Sciences              1           4   \n",
            "4                   10          1        Medical              1           5   \n",
            "...                ...        ...            ...            ...         ...   \n",
            "4405                 5          4        Medical              1        4406   \n",
            "4406                 2          4        Medical              1        4407   \n",
            "4407                25          2  Life Sciences              1        4408   \n",
            "4408                18          2        Medical              1        4409   \n",
            "4409                28          3        Medical              1        4410   \n",
            "\n",
            "      Gender  ...  StandardHours StockOptionLevel TotalWorkingYears  \\\n",
            "0     Female  ...              8                0               1.0   \n",
            "1     Female  ...              8                1               6.0   \n",
            "2       Male  ...              8                3               5.0   \n",
            "3       Male  ...              8                3              13.0   \n",
            "4       Male  ...              8                2               9.0   \n",
            "...      ...  ...            ...              ...               ...   \n",
            "4405  Female  ...              8                1              10.0   \n",
            "4406    Male  ...              8                0              10.0   \n",
            "4407    Male  ...              8                0               5.0   \n",
            "4408    Male  ...              8                1              10.0   \n",
            "4409    Male  ...              8                0               NaN   \n",
            "\n",
            "      TrainingTimesLastYear  YearsAtCompany YearsSinceLastPromotion  \\\n",
            "0                         6               1                       0   \n",
            "1                         3               5                       1   \n",
            "2                         2               5                       0   \n",
            "3                         5               8                       7   \n",
            "4                         2               6                       0   \n",
            "...                     ...             ...                     ...   \n",
            "4405                      5               3                       0   \n",
            "4406                      2               3                       0   \n",
            "4407                      4               4                       1   \n",
            "4408                      2               9                       7   \n",
            "4409                      6              21                       3   \n",
            "\n",
            "      YearsWithCurrManager  TerminationType  \\\n",
            "0                        0              Unk   \n",
            "1                        4              Unk   \n",
            "2                        3              Unk   \n",
            "3                        5              Unk   \n",
            "4                        4              Unk   \n",
            "...                    ...              ...   \n",
            "4405                     2      Involuntary   \n",
            "4406                     2       Retirement   \n",
            "4407                     2       Retirement   \n",
            "4408                     8              Unk   \n",
            "4409                     9      Involuntary   \n",
            "\n",
            "                                TerminationDescription  AboveAverageIncome  \n",
            "0                                                  NaN                True  \n",
            "1                                                  NaN               False  \n",
            "2                                                  NaN                True  \n",
            "3                                                  NaN                True  \n",
            "4                                                  NaN               False  \n",
            "...                                                ...                 ...  \n",
            "4405  Marriage sound myself others well morning wrong.               False  \n",
            "4406                    Lawyer miss meet across agent.               False  \n",
            "4407     Authority different including gun production.               False  \n",
            "4408                                               NaN               False  \n",
            "4409                              Item born upon blue.               False  \n",
            "\n",
            "[4410 rows x 27 columns]\n"
          ]
        }
      ]
    },
    {
      "cell_type": "code",
      "source": [
        "#Q8\n",
        "pivot_table = general_data.pivot_table(values='EmployeeID', index='MaritalStatus', columns='Department', aggfunc='count')\n",
        "print(pivot_table)"
      ],
      "metadata": {
        "colab": {
          "base_uri": "https://localhost:8080/"
        },
        "id": "lF10NU4ihOEj",
        "outputId": "c4af591b-e0e9-42a2-cc87-f3945f27183c"
      },
      "execution_count": 32,
      "outputs": [
        {
          "output_type": "stream",
          "name": "stdout",
          "text": [
            "Department     Human Resources  Research & Development  Sales\n",
            "MaritalStatus                                                \n",
            "Divorced                    21                     621    339\n",
            "Married                     96                    1350    573\n",
            "Single                      72                     912    426\n"
          ]
        }
      ]
    },
    {
      "cell_type": "code",
      "source": [
        "#Q15\n",
        "filtered_data = general_data[general_data['JobLevel'] >= 3]\n",
        "total_income_per_department = filtered_data.groupby('Department')['MonthlyIncome'].sum()\n",
        "print(total_income_per_department)"
      ],
      "metadata": {
        "colab": {
          "base_uri": "https://localhost:8080/"
        },
        "id": "yWIIJk4bhV0j",
        "outputId": "a046e322-840d-4516-d2da-3a1ded3050f8"
      },
      "execution_count": 33,
      "outputs": [
        {
          "output_type": "stream",
          "name": "stdout",
          "text": [
            "Department\n",
            "Human Resources            3259140\n",
            "Research & Development    53502900\n",
            "Sales                     22974330\n",
            "Name: MonthlyIncome, dtype: int64\n"
          ]
        }
      ]
    },
    {
      "cell_type": "code",
      "source": [
        "#Q16\n",
        "general_data['IncreasedIncome'] = general_data['MonthlyIncome'] * (1 + 0.1 * general_data['PercentSalaryHike'])\n",
        "print(general_data[['EmployeeID', 'MonthlyIncome', 'PercentSalaryHike', 'IncreasedIncome']])"
      ],
      "metadata": {
        "colab": {
          "base_uri": "https://localhost:8080/"
        },
        "id": "tPeBDVemheCY",
        "outputId": "cd5d6f38-603b-4893-8b3e-7fa9fdb88fa9"
      },
      "execution_count": 34,
      "outputs": [
        {
          "output_type": "stream",
          "name": "stdout",
          "text": [
            "      EmployeeID  MonthlyIncome  PercentSalaryHike  IncreasedIncome\n",
            "0              1         131160                 11         275436.0\n",
            "1              2          41890                 23         138237.0\n",
            "2              3         193280                 15         483200.0\n",
            "3              4          83210                 11         174741.0\n",
            "4              5          23420                 12          51524.0\n",
            "...          ...            ...                ...              ...\n",
            "4405        4406          60290                 17         162783.0\n",
            "4406        4407          26790                 15          66975.0\n",
            "4407        4408          37020                 20         111060.0\n",
            "4408        4409          23980                 14          57552.0\n",
            "4409        4410          54680                 12         120296.0\n",
            "\n",
            "[4410 rows x 4 columns]\n"
          ]
        }
      ]
    }
  ]
}